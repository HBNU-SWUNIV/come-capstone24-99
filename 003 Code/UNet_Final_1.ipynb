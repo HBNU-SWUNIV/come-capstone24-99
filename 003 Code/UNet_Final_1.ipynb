{
  "nbformat": 4,
  "nbformat_minor": 0,
  "metadata": {
    "colab": {
      "provenance": [],
      "machine_shape": "hm",
      "gpuType": "L4"
    },
    "kernelspec": {
      "name": "python3",
      "display_name": "Python 3"
    },
    "language_info": {
      "name": "python"
    },
    "accelerator": "GPU"
  },
  "cells": [
    {
      "cell_type": "code",
      "source": [
        "!pip install tensorflow==2.10.0"
      ],
      "metadata": {
        "colab": {
          "base_uri": "https://localhost:8080/"
        },
        "id": "S1T3HTtnWqk3",
        "outputId": "a12326d4-fe26-451f-f13e-0afd3677b33b"
      },
      "execution_count": 83,
      "outputs": [
        {
          "output_type": "stream",
          "name": "stdout",
          "text": [
            "Requirement already satisfied: tensorflow==2.10.0 in /usr/local/lib/python3.10/dist-packages (2.10.0)\n",
            "Requirement already satisfied: absl-py>=1.0.0 in /usr/local/lib/python3.10/dist-packages (from tensorflow==2.10.0) (1.4.0)\n",
            "Requirement already satisfied: astunparse>=1.6.0 in /usr/local/lib/python3.10/dist-packages (from tensorflow==2.10.0) (1.6.3)\n",
            "Requirement already satisfied: flatbuffers>=2.0 in /usr/local/lib/python3.10/dist-packages (from tensorflow==2.10.0) (24.3.25)\n",
            "Requirement already satisfied: gast<=0.4.0,>=0.2.1 in /usr/local/lib/python3.10/dist-packages (from tensorflow==2.10.0) (0.4.0)\n",
            "Requirement already satisfied: google-pasta>=0.1.1 in /usr/local/lib/python3.10/dist-packages (from tensorflow==2.10.0) (0.2.0)\n",
            "Requirement already satisfied: grpcio<2.0,>=1.24.3 in /usr/local/lib/python3.10/dist-packages (from tensorflow==2.10.0) (1.64.0)\n",
            "Requirement already satisfied: h5py>=2.9.0 in /usr/local/lib/python3.10/dist-packages (from tensorflow==2.10.0) (3.9.0)\n",
            "Requirement already satisfied: keras<2.11,>=2.10.0 in /usr/local/lib/python3.10/dist-packages (from tensorflow==2.10.0) (2.10.0)\n",
            "Requirement already satisfied: keras-preprocessing>=1.1.1 in /usr/local/lib/python3.10/dist-packages (from tensorflow==2.10.0) (1.1.2)\n",
            "Requirement already satisfied: libclang>=13.0.0 in /usr/local/lib/python3.10/dist-packages (from tensorflow==2.10.0) (18.1.1)\n",
            "Requirement already satisfied: numpy>=1.20 in /usr/local/lib/python3.10/dist-packages (from tensorflow==2.10.0) (1.25.2)\n",
            "Requirement already satisfied: opt-einsum>=2.3.2 in /usr/local/lib/python3.10/dist-packages (from tensorflow==2.10.0) (3.3.0)\n",
            "Requirement already satisfied: packaging in /usr/local/lib/python3.10/dist-packages (from tensorflow==2.10.0) (24.0)\n",
            "Requirement already satisfied: protobuf<3.20,>=3.9.2 in /usr/local/lib/python3.10/dist-packages (from tensorflow==2.10.0) (3.19.6)\n",
            "Requirement already satisfied: setuptools in /usr/local/lib/python3.10/dist-packages (from tensorflow==2.10.0) (67.7.2)\n",
            "Requirement already satisfied: six>=1.12.0 in /usr/local/lib/python3.10/dist-packages (from tensorflow==2.10.0) (1.16.0)\n",
            "Requirement already satisfied: tensorboard<2.11,>=2.10 in /usr/local/lib/python3.10/dist-packages (from tensorflow==2.10.0) (2.10.1)\n",
            "Requirement already satisfied: tensorflow-io-gcs-filesystem>=0.23.1 in /usr/local/lib/python3.10/dist-packages (from tensorflow==2.10.0) (0.37.0)\n",
            "Requirement already satisfied: tensorflow-estimator<2.11,>=2.10.0 in /usr/local/lib/python3.10/dist-packages (from tensorflow==2.10.0) (2.10.0)\n",
            "Requirement already satisfied: termcolor>=1.1.0 in /usr/local/lib/python3.10/dist-packages (from tensorflow==2.10.0) (2.4.0)\n",
            "Requirement already satisfied: typing-extensions>=3.6.6 in /usr/local/lib/python3.10/dist-packages (from tensorflow==2.10.0) (4.12.0)\n",
            "Requirement already satisfied: wrapt>=1.11.0 in /usr/local/lib/python3.10/dist-packages (from tensorflow==2.10.0) (1.14.1)\n",
            "Requirement already satisfied: wheel<1.0,>=0.23.0 in /usr/local/lib/python3.10/dist-packages (from astunparse>=1.6.0->tensorflow==2.10.0) (0.43.0)\n",
            "Requirement already satisfied: google-auth<3,>=1.6.3 in /usr/local/lib/python3.10/dist-packages (from tensorboard<2.11,>=2.10->tensorflow==2.10.0) (2.27.0)\n",
            "Requirement already satisfied: google-auth-oauthlib<0.5,>=0.4.1 in /usr/local/lib/python3.10/dist-packages (from tensorboard<2.11,>=2.10->tensorflow==2.10.0) (0.4.6)\n",
            "Requirement already satisfied: markdown>=2.6.8 in /usr/local/lib/python3.10/dist-packages (from tensorboard<2.11,>=2.10->tensorflow==2.10.0) (3.6)\n",
            "Requirement already satisfied: requests<3,>=2.21.0 in /usr/local/lib/python3.10/dist-packages (from tensorboard<2.11,>=2.10->tensorflow==2.10.0) (2.31.0)\n",
            "Requirement already satisfied: tensorboard-data-server<0.7.0,>=0.6.0 in /usr/local/lib/python3.10/dist-packages (from tensorboard<2.11,>=2.10->tensorflow==2.10.0) (0.6.1)\n",
            "Requirement already satisfied: tensorboard-plugin-wit>=1.6.0 in /usr/local/lib/python3.10/dist-packages (from tensorboard<2.11,>=2.10->tensorflow==2.10.0) (1.8.1)\n",
            "Requirement already satisfied: werkzeug>=1.0.1 in /usr/local/lib/python3.10/dist-packages (from tensorboard<2.11,>=2.10->tensorflow==2.10.0) (3.0.3)\n",
            "Requirement already satisfied: cachetools<6.0,>=2.0.0 in /usr/local/lib/python3.10/dist-packages (from google-auth<3,>=1.6.3->tensorboard<2.11,>=2.10->tensorflow==2.10.0) (5.3.3)\n",
            "Requirement already satisfied: pyasn1-modules>=0.2.1 in /usr/local/lib/python3.10/dist-packages (from google-auth<3,>=1.6.3->tensorboard<2.11,>=2.10->tensorflow==2.10.0) (0.4.0)\n",
            "Requirement already satisfied: rsa<5,>=3.1.4 in /usr/local/lib/python3.10/dist-packages (from google-auth<3,>=1.6.3->tensorboard<2.11,>=2.10->tensorflow==2.10.0) (4.9)\n",
            "Requirement already satisfied: requests-oauthlib>=0.7.0 in /usr/local/lib/python3.10/dist-packages (from google-auth-oauthlib<0.5,>=0.4.1->tensorboard<2.11,>=2.10->tensorflow==2.10.0) (1.3.1)\n",
            "Requirement already satisfied: charset-normalizer<4,>=2 in /usr/local/lib/python3.10/dist-packages (from requests<3,>=2.21.0->tensorboard<2.11,>=2.10->tensorflow==2.10.0) (3.3.2)\n",
            "Requirement already satisfied: idna<4,>=2.5 in /usr/local/lib/python3.10/dist-packages (from requests<3,>=2.21.0->tensorboard<2.11,>=2.10->tensorflow==2.10.0) (3.7)\n",
            "Requirement already satisfied: urllib3<3,>=1.21.1 in /usr/local/lib/python3.10/dist-packages (from requests<3,>=2.21.0->tensorboard<2.11,>=2.10->tensorflow==2.10.0) (2.0.7)\n",
            "Requirement already satisfied: certifi>=2017.4.17 in /usr/local/lib/python3.10/dist-packages (from requests<3,>=2.21.0->tensorboard<2.11,>=2.10->tensorflow==2.10.0) (2024.2.2)\n",
            "Requirement already satisfied: MarkupSafe>=2.1.1 in /usr/local/lib/python3.10/dist-packages (from werkzeug>=1.0.1->tensorboard<2.11,>=2.10->tensorflow==2.10.0) (2.1.5)\n",
            "Requirement already satisfied: pyasn1<0.7.0,>=0.4.6 in /usr/local/lib/python3.10/dist-packages (from pyasn1-modules>=0.2.1->google-auth<3,>=1.6.3->tensorboard<2.11,>=2.10->tensorflow==2.10.0) (0.6.0)\n",
            "Requirement already satisfied: oauthlib>=3.0.0 in /usr/local/lib/python3.10/dist-packages (from requests-oauthlib>=0.7.0->google-auth-oauthlib<0.5,>=0.4.1->tensorboard<2.11,>=2.10->tensorflow==2.10.0) (3.2.2)\n"
          ]
        }
      ]
    },
    {
      "cell_type": "code",
      "source": [
        "! python -V"
      ],
      "metadata": {
        "colab": {
          "base_uri": "https://localhost:8080/"
        },
        "id": "uETsdrYtWk8v",
        "outputId": "0e16e3c7-333a-48bb-80a5-f84a999d62d8"
      },
      "execution_count": 84,
      "outputs": [
        {
          "output_type": "stream",
          "name": "stdout",
          "text": [
            "Python 3.10.12\n"
          ]
        }
      ]
    },
    {
      "cell_type": "code",
      "source": [
        "import tensorflow as tf\n",
        "from tensorflow.keras import layers\n",
        "import matplotlib.pyplot as plt\n",
        "import os\n",
        "import random\n",
        "from tensorflow.keras.utils import image_dataset_from_directory\n",
        "from tensorflow.keras.layers import Conv2D, MaxPooling2D, Conv2DTranspose, concatenate, Input\n",
        "from tensorflow.keras.models import Model\n",
        "from tensorflow.keras.layers import GlobalAveragePooling2D, Dense, BatchNormalization, Dropout\n",
        "from tensorflow.keras.regularizers import l1, l2, l1_l2\n",
        "from sklearn.model_selection import train_test_split\n",
        "from tensorflow.keras.callbacks import EarlyStopping, ReduceLROnPlateau\n",
        "from sklearn.utils import class_weight\n",
        "import numpy as np"
      ],
      "metadata": {
        "id": "b7KUa4y6Wwrn"
      },
      "execution_count": 85,
      "outputs": []
    },
    {
      "cell_type": "code",
      "source": [
        "tf.__version__"
      ],
      "metadata": {
        "colab": {
          "base_uri": "https://localhost:8080/",
          "height": 35
        },
        "id": "Esp-8L5zXGhR",
        "outputId": "97b24c68-4726-439b-d5ff-d9fcf6820806"
      },
      "execution_count": 86,
      "outputs": [
        {
          "output_type": "execute_result",
          "data": {
            "text/plain": [
              "'2.10.0'"
            ],
            "application/vnd.google.colaboratory.intrinsic+json": {
              "type": "string"
            }
          },
          "metadata": {},
          "execution_count": 86
        }
      ]
    },
    {
      "cell_type": "code",
      "source": [
        "from google.colab import drive\n",
        "drive.mount('/content/drive')"
      ],
      "metadata": {
        "colab": {
          "base_uri": "https://localhost:8080/"
        },
        "id": "qIh3RuZQpdQS",
        "outputId": "67e439cf-8958-4d86-9a3f-f34480e9d27c"
      },
      "execution_count": 87,
      "outputs": [
        {
          "output_type": "stream",
          "name": "stdout",
          "text": [
            "Drive already mounted at /content/drive; to attempt to forcibly remount, call drive.mount(\"/content/drive\", force_remount=True).\n"
          ]
        }
      ]
    },
    {
      "cell_type": "code",
      "source": [
        "# 시드 값 설정\n",
        "SEED = 50\n",
        "\n",
        "# 시드 고정\n",
        "tf.random.set_seed(SEED)\n",
        "np.random.seed(SEED)\n",
        "random.seed(SEED)"
      ],
      "metadata": {
        "id": "dFOkk1DFke_0"
      },
      "execution_count": 163,
      "outputs": []
    },
    {
      "cell_type": "code",
      "source": [
        "normal_dir = '/content/drive/MyDrive/캡스톤/Data_2/Normal'\n",
        "abnormal_dir = '/content/drive/MyDrive/캡스톤/Data_2/Abnormal'\n",
        "\n",
        "# 이미지 파일 리스트 생성\n",
        "normal_images = [os.path.join(normal_dir, fname) for fname in os.listdir(normal_dir) if fname.endswith(('.png', '.jpg', '.jpeg'))]\n",
        "abnormal_images = [os.path.join(abnormal_dir, fname) for fname in os.listdir(abnormal_dir) if fname.endswith(('.png', '.jpg', '.jpeg'))]\n",
        "\n",
        "# 데이터 셋 셔플\n",
        "random.shuffle(normal_images)\n",
        "random.shuffle(abnormal_images)\n",
        "\n",
        "# 정상 데이터 분할\n",
        "normal_train, normal_temp = train_test_split(normal_images, test_size=0.3, random_state=42)\n",
        "normal_val, normal_test = train_test_split(normal_temp, test_size=0.5, random_state=42)\n",
        "\n",
        "# 비정상 데이터 분할\n",
        "abnormal_train, abnormal_temp = train_test_split(abnormal_images, test_size=0.3, random_state=42)\n",
        "abnormal_val, abnormal_test = train_test_split(abnormal_temp, test_size=0.5, random_state=42)\n",
        "\n",
        "# 데이터셋 통합\n",
        "train_data = normal_train + abnormal_train\n",
        "train_labels = [0] * len(normal_train) + [1] * len(abnormal_train)\n",
        "\n",
        "val_data = normal_val + abnormal_val\n",
        "val_labels = [0] * len(normal_val) + [1] * len(abnormal_val)\n",
        "\n",
        "test_data = normal_test + abnormal_test\n",
        "test_labels = [0] * len(normal_test) + [1] * len(abnormal_test)\n",
        "\n",
        "# 데이터셋 섞기\n",
        "train_dataset = list(zip(train_data, train_labels))\n",
        "random.shuffle(train_dataset)\n",
        "train_data, train_labels = zip(*train_dataset)\n",
        "\n",
        "val_dataset = list(zip(val_data, val_labels))\n",
        "random.shuffle(val_dataset)\n",
        "val_data, val_labels = zip(*val_dataset)\n",
        "\n",
        "test_dataset = list(zip(test_data, test_labels))\n",
        "random.shuffle(test_dataset)\n",
        "test_data, test_labels = zip(*test_dataset)\n",
        "\n",
        "data_augmentation = tf.keras.Sequential([\n",
        "    tf.keras.layers.experimental.preprocessing.RandomRotation(0.1),\n",
        "    tf.keras.layers.experimental.preprocessing.RandomTranslation(0.2, 0.2),\n",
        "    tf.keras.layers.experimental.preprocessing.RandomZoom(0.2),\n",
        "    tf.keras.layers.experimental.preprocessing.RandomFlip(\"horizontal\")\n",
        "])\n",
        "\n",
        "def preprocess_image(image_path, label):\n",
        "    image = tf.io.read_file(image_path)\n",
        "    image = tf.image.decode_image(image, channels=3)\n",
        "    image.set_shape([None, None, 3])  # 이미지의 shape을 명시적으로 설정\n",
        "    image = tf.image.resize(image, [256, 256])\n",
        "    image = tf.cast(image, tf.float32) / 255.0\n",
        "    image = data_augmentation(image)\n",
        "    return image, label\n",
        "\n",
        "def configure_for_performance(ds):\n",
        "    ds = ds.cache()\n",
        "    ds = ds.shuffle(buffer_size=1000)\n",
        "    ds = ds.prefetch(buffer_size=tf.data.experimental.AUTOTUNE)\n",
        "    return ds\n",
        "\n",
        "def load_data(data, labels, batch_size):\n",
        "    ds = tf.data.Dataset.from_tensor_slices((list(data), list(labels)))\n",
        "    # ds = ds.map(lambda x, y: (preprocess_image(x), y), num_parallel_calls=tf.data.experimental.AUTOTUNE)\n",
        "    ds = ds.map(preprocess_image, num_parallel_calls=tf.data.experimental.AUTOTUNE)\n",
        "    ds = ds.batch(batch_size)\n",
        "    ds = configure_for_performance(ds)\n",
        "    return ds\n",
        "\n",
        "# 데이터셋 생성\n",
        "batch_size = 64\n",
        "EPOCH = 80\n",
        "\n",
        "train_ds = load_data(train_data, train_labels, batch_size)\n",
        "val_ds = load_data(val_data, val_labels, batch_size)\n",
        "test_ds = load_data(test_data, test_labels, batch_size)\n",
        "\n"
      ],
      "metadata": {
        "id": "Fmvhx5HbejlP"
      },
      "execution_count": 164,
      "outputs": []
    },
    {
      "cell_type": "markdown",
      "source": [
        "기존코드"
      ],
      "metadata": {
        "id": "jjjHfah7ndYP"
      }
    },
    {
      "cell_type": "code",
      "source": [
        "# normal_dir = '/content/drive/MyDrive/캡스톤/Data_2/Normal'\n",
        "# abnormal_dir = '/content/drive/MyDrive/캡스톤/Data_2/Abnormal'\n",
        "\n",
        "# # 이미지 파일 리스트 생성\n",
        "# normal_images = [os.path.join(normal_dir, fname) for fname in os.listdir(normal_dir) if fname.endswith(('.png', '.jpg', '.jpeg'))]\n",
        "# abnormal_images = [os.path.join(abnormal_dir, fname) for fname in os.listdir(abnormal_dir) if fname.endswith(('.png', '.jpg', '.jpeg'))]\n",
        "\n",
        "# # 데이터 셋 셔플\n",
        "# random.shuffle(normal_images)\n",
        "# random.shuffle(abnormal_images)\n",
        "\n",
        "# # 정상 데이터 분할\n",
        "# normal_train, normal_temp = train_test_split(normal_images, test_size=0.3, random_state=42)\n",
        "# normal_val, normal_test = train_test_split(normal_temp, test_size=0.5, random_state=42)\n",
        "\n",
        "# # 비정상 데이터 분할\n",
        "# abnormal_train, abnormal_temp = train_test_split(abnormal_images, test_size=0.3, random_state=42)\n",
        "# abnormal_val, abnormal_test = train_test_split(abnormal_temp, test_size=0.5, random_state=42)\n",
        "\n",
        "# # 데이터셋 통합\n",
        "# train_data = normal_train + abnormal_train\n",
        "# train_labels = [0] * len(normal_train) + [1] * len(abnormal_train)\n",
        "\n",
        "# val_data = normal_val + abnormal_val\n",
        "# val_labels = [0] * len(normal_val) + [1] * len(abnormal_val)\n",
        "\n",
        "# test_data = normal_test + abnormal_test\n",
        "# test_labels = [0] * len(normal_test) + [1] * len(abnormal_test)\n",
        "\n",
        "# # 데이터셋 섞기\n",
        "# train_dataset = list(zip(train_data, train_labels))\n",
        "# random.shuffle(train_dataset)\n",
        "# train_data, train_labels = zip(*train_dataset)\n",
        "\n",
        "# val_dataset = list(zip(val_data, val_labels))\n",
        "# random.shuffle(val_dataset)\n",
        "# val_data, val_labels = zip(*val_dataset)\n",
        "\n",
        "# test_dataset = list(zip(test_data, test_labels))\n",
        "# random.shuffle(test_dataset)\n",
        "# test_data, test_labels = zip(*test_dataset)\n",
        "\n",
        "\n",
        "# def preprocess_image(image_path):\n",
        "#     image = tf.io.read_file(image_path)\n",
        "#     image = tf.image.decode_image(image, channels=3)\n",
        "#     image.set_shape([256, 256, 3])  # 이미지의 shape을 명시적으로 설정\n",
        "#     image = tf.image.resize(image, [256, 256])\n",
        "#     image = tf.cast(image, tf.float32) / 255.0\n",
        "#     return image\n",
        "\n",
        "# def configure_for_performance(ds):\n",
        "#     ds = ds.cache()\n",
        "#     ds = ds.shuffle(buffer_size=1000)\n",
        "#     ds = ds.prefetch(buffer_size=tf.data.experimental.AUTOTUNE)\n",
        "#     return ds\n",
        "\n",
        "# def load_data(data, labels, batch_size):\n",
        "#     ds = tf.data.Dataset.from_tensor_slices((list(data), list(labels)))\n",
        "#     ds = ds.map(lambda x, y: (preprocess_image(x), y), num_parallel_calls=tf.data.experimental.AUTOTUNE)\n",
        "#     ds = ds.batch(batch_size)\n",
        "#     ds = configure_for_performance(ds)\n",
        "#     return ds\n",
        "\n",
        "# # 데이터셋 생성\n",
        "# batch_size = 64\n",
        "# EPOCH = 80\n",
        "\n",
        "# train_ds = load_data(train_data, train_labels, batch_size)\n",
        "# val_ds = load_data(val_data, val_labels, batch_size)\n",
        "# test_ds = load_data(test_data, test_labels, batch_size)"
      ],
      "metadata": {
        "id": "UM-oy2ZftWct"
      },
      "execution_count": 165,
      "outputs": []
    },
    {
      "cell_type": "code",
      "source": [
        "def build_unet(input_shape, num_classes, dropout_rate=0.3, l1_factor=0.01, l2_factor=0.01):\n",
        "    inputs = Input(input_shape)\n",
        "\n",
        "    # Encoder\n",
        "    c1 = Conv2D(16, (3, 3), activation='relu', kernel_initializer='he_normal', padding='same',\n",
        "                kernel_regularizer=l1_l2(l1=l1_factor, l2=l2_factor))(inputs)\n",
        "    b1 = BatchNormalization()(c1)\n",
        "    d1 = Dropout(dropout_rate)(b1)\n",
        "    p1 = MaxPooling2D((2, 2))(d1)\n",
        "\n",
        "    c2 = Conv2D(32, (3, 3), activation='relu', kernel_initializer='he_normal', padding='same',\n",
        "                kernel_regularizer=l1_l2(l1=l1_factor, l2=l2_factor))(p1)\n",
        "    b2 = BatchNormalization()(c2)\n",
        "    d2 = Dropout(dropout_rate)(b2)\n",
        "    p2 = MaxPooling2D((2, 2))(d2)\n",
        "\n",
        "    # Bottleneck\n",
        "    c3 = Conv2D(64, (3, 3), activation='relu', kernel_initializer='he_normal', padding='same',\n",
        "                kernel_regularizer=l1_l2(l1=l1_factor, l2=l2_factor))(p2)\n",
        "    b3 = BatchNormalization()(c3)\n",
        "    d3 = Dropout(dropout_rate)(b3)\n",
        "\n",
        "    # Decoder\n",
        "    u4 = Conv2DTranspose(32, (2, 2), strides=(2, 2), padding='same',\n",
        "                         kernel_regularizer=l1_l2(l1=l1_factor, l2=l2_factor))(d3)\n",
        "    u4 = concatenate([u4, d2])\n",
        "    c4 = Conv2D(32, (3, 3), activation='relu', kernel_initializer='he_normal', padding='same')(u4)\n",
        "    b4 = BatchNormalization()(c4)\n",
        "    d4 = Dropout(dropout_rate)(b4)\n",
        "\n",
        "    u5 = Conv2DTranspose(16, (2, 2), strides=(2, 2), padding='same',\n",
        "                         kernel_regularizer=l1_l2(l1=l1_factor, l2=l2_factor))(d4)\n",
        "    u5 = concatenate([u5, d1])\n",
        "    c5 = Conv2D(16, (3, 3), activation='relu', kernel_initializer='he_normal', padding='same')(u5)\n",
        "    b5 = BatchNormalization()(c5)\n",
        "    d5 = Dropout(dropout_rate)(b5)\n",
        "\n",
        "    # 전역 평균 풀링과 밀집 레이어로 분류기 추가\n",
        "    gap = GlobalAveragePooling2D()(d5)\n",
        "    outputs = Dense(num_classes, activation='softmax')(gap)  # 클래스 수에 따라 수정\n",
        "\n",
        "    model = Model(inputs=[inputs], outputs=[outputs])\n",
        "    return model\n",
        "\n",
        "# 클래스 가중치 계산\n",
        "class_weights = class_weight.compute_class_weight(class_weight='balanced', classes=np.unique(train_labels), y=train_labels)\n",
        "class_weights_dict = dict(enumerate(class_weights))\n",
        "\n",
        "# # # 조기 종료와 학습률 감소 콜백\n",
        "# early_stopping = EarlyStopping(monitor='val_loss', patience=10, restore_best_weights=True)\n",
        "# reduce_lr = ReduceLROnPlateau(monitor='val_loss', factor=0.2, patience=5, min_lr=0.001)\n",
        "\n",
        "\n",
        "\n",
        "# 모델 생성 및 컴파일\n",
        "model = build_unet((256, 256, 3), num_classes=2)\n",
        "model.compile(optimizer='adam', loss='sparse_categorical_crossentropy', metrics=['accuracy'])"
      ],
      "metadata": {
        "id": "7EUkmxrinORN"
      },
      "execution_count": 166,
      "outputs": []
    },
    {
      "cell_type": "markdown",
      "source": [
        "기존 코드"
      ],
      "metadata": {
        "id": "9VuUPsmWnUm-"
      }
    },
    {
      "cell_type": "code",
      "source": [
        "# def build_unet(input_shape, num_classes, dropout_rate=0.3, l1_factor=0.01, l2_factor=0.01):\n",
        "#     inputs = Input(input_shape)\n",
        "\n",
        "#     # Encoder\n",
        "#     c1 = Conv2D(16, (3, 3), activation='relu', kernel_initializer='he_normal', padding='same',\n",
        "#                 kernel_regularizer=l1_l2(l1=l1_factor, l2=l2_factor))(inputs)\n",
        "#     b1 = BatchNormalization()(c1)\n",
        "#     d1 = Dropout(dropout_rate)(b1)\n",
        "#     p1 = MaxPooling2D((2, 2))(d1)\n",
        "\n",
        "#     c2 = Conv2D(32, (3, 3), activation='relu', kernel_initializer='he_normal', padding='same',\n",
        "#                 kernel_regularizer=l1_l2(l1=l1_factor, l2=l2_factor))(p1)\n",
        "#     b2 = BatchNormalization()(c2)\n",
        "#     d2 = Dropout(dropout_rate)(b2)\n",
        "#     p2 = MaxPooling2D((2, 2))(d2)\n",
        "\n",
        "#     # Bottleneck\n",
        "#     c3 = Conv2D(64, (3, 3), activation='relu', kernel_initializer='he_normal', padding='same',\n",
        "#                 kernel_regularizer=l1_l2(l1=l1_factor, l2=l2_factor))(p2)\n",
        "#     b3 = BatchNormalization()(c3)\n",
        "#     d3 = Dropout(dropout_rate)(b3)\n",
        "\n",
        "#     # Decoder\n",
        "#     u4 = Conv2DTranspose(32, (2, 2), strides=(2, 2), padding='same',\n",
        "#                          kernel_regularizer=l1_l2(l1=l1_factor, l2=l2_factor))(d3)\n",
        "#     u4 = concatenate([u4, d2])\n",
        "#     c4 = Conv2D(32, (3, 3), activation='relu', kernel_initializer='he_normal', padding='same')(u4)\n",
        "#     b4 = BatchNormalization()(c4)\n",
        "#     d4 = Dropout(dropout_rate)(b4)\n",
        "\n",
        "#     u5 = Conv2DTranspose(16, (2, 2), strides=(2, 2), padding='same',\n",
        "#                          kernel_regularizer=l1_l2(l1=l1_factor, l2=l2_factor))(d4)\n",
        "#     u5 = concatenate([u5, d1])\n",
        "#     c5 = Conv2D(16, (3, 3), activation='relu', kernel_initializer='he_normal', padding='same')(u5)\n",
        "#     b5 = BatchNormalization()(c5)\n",
        "#     d5 = Dropout(dropout_rate)(b5)\n",
        "\n",
        "#     # 전역 평균 풀링과 밀집 레이어로 분류기 추가\n",
        "#     gap = GlobalAveragePooling2D()(d5)\n",
        "#     outputs = Dense(num_classes, activation='softmax')(gap)  # 클래스 수에 따라 수정\n",
        "\n",
        "#     model = Model(inputs=[inputs], outputs=[outputs])\n",
        "#     return model\n",
        "\n",
        "# # 클래스 가중치 계산\n",
        "# class_weights = class_weight.compute_class_weight(class_weight='balanced', classes=np.unique(train_labels), y=train_labels)\n",
        "# class_weights_dict = dict(enumerate(class_weights))\n",
        "\n",
        "\n",
        "# # 모델 생성 및 컴파일\n",
        "# model = build_unet((256, 256, 3), num_classes=2)\n",
        "# model.compile(optimizer='adam', loss='sparse_categorical_crossentropy', metrics=['accuracy'])"
      ],
      "metadata": {
        "id": "Hbt3k_2QtX2i"
      },
      "execution_count": 167,
      "outputs": []
    },
    {
      "cell_type": "code",
      "source": [
        "history = model.fit(train_ds, validation_data=val_ds, epochs=EPOCH, class_weight=class_weights_dict)"
      ],
      "metadata": {
        "colab": {
          "base_uri": "https://localhost:8080/"
        },
        "id": "Ltesmc-VtZKc",
        "outputId": "b84b737f-ff3a-492c-9366-13e8e216d7ef"
      },
      "execution_count": 168,
      "outputs": [
        {
          "output_type": "stream",
          "name": "stdout",
          "text": [
            "Epoch 1/80\n",
            "11/11 [==============================] - 23s 2s/step - loss: 26.5563 - accuracy: 0.8931 - val_loss: 24.7007 - val_accuracy: 0.3154\n",
            "Epoch 2/80\n",
            "11/11 [==============================] - 17s 2s/step - loss: 22.5417 - accuracy: 0.9364 - val_loss: 20.8738 - val_accuracy: 0.9329\n",
            "Epoch 3/80\n",
            "11/11 [==============================] - 17s 2s/step - loss: 19.0946 - accuracy: 0.9523 - val_loss: 17.5871 - val_accuracy: 0.7987\n",
            "Epoch 4/80\n",
            "11/11 [==============================] - 17s 2s/step - loss: 16.0380 - accuracy: 0.9566 - val_loss: 14.7730 - val_accuracy: 0.7919\n",
            "Epoch 5/80\n",
            "11/11 [==============================] - 17s 2s/step - loss: 13.3886 - accuracy: 0.9566 - val_loss: 12.3735 - val_accuracy: 0.7852\n",
            "Epoch 6/80\n",
            "11/11 [==============================] - 17s 2s/step - loss: 11.0552 - accuracy: 0.9595 - val_loss: 10.2474 - val_accuracy: 0.7852\n",
            "Epoch 7/80\n",
            "11/11 [==============================] - 17s 2s/step - loss: 9.0504 - accuracy: 0.9624 - val_loss: 8.4417 - val_accuracy: 0.7852\n",
            "Epoch 8/80\n",
            "11/11 [==============================] - 17s 2s/step - loss: 7.3668 - accuracy: 0.9581 - val_loss: 6.8892 - val_accuracy: 0.7852\n",
            "Epoch 9/80\n",
            "11/11 [==============================] - 17s 2s/step - loss: 5.9529 - accuracy: 0.9624 - val_loss: 5.6388 - val_accuracy: 0.7852\n",
            "Epoch 10/80\n",
            "11/11 [==============================] - 17s 2s/step - loss: 4.7833 - accuracy: 0.9566 - val_loss: 4.5933 - val_accuracy: 0.7852\n",
            "Epoch 11/80\n",
            "11/11 [==============================] - 17s 2s/step - loss: 3.8394 - accuracy: 0.9639 - val_loss: 3.8036 - val_accuracy: 0.7852\n",
            "Epoch 12/80\n",
            "11/11 [==============================] - 17s 2s/step - loss: 3.1081 - accuracy: 0.9624 - val_loss: 3.2180 - val_accuracy: 0.7852\n",
            "Epoch 13/80\n",
            "11/11 [==============================] - 17s 2s/step - loss: 2.5358 - accuracy: 0.9624 - val_loss: 2.7075 - val_accuracy: 0.7852\n",
            "Epoch 14/80\n",
            "11/11 [==============================] - 17s 2s/step - loss: 2.0890 - accuracy: 0.9624 - val_loss: 2.3101 - val_accuracy: 0.7852\n",
            "Epoch 15/80\n",
            "11/11 [==============================] - 17s 2s/step - loss: 1.7396 - accuracy: 0.9581 - val_loss: 1.9274 - val_accuracy: 0.7852\n",
            "Epoch 16/80\n",
            "11/11 [==============================] - 17s 2s/step - loss: 1.4645 - accuracy: 0.9566 - val_loss: 1.7517 - val_accuracy: 0.7852\n",
            "Epoch 17/80\n",
            "11/11 [==============================] - 17s 2s/step - loss: 1.2483 - accuracy: 0.9653 - val_loss: 1.5861 - val_accuracy: 0.7852\n",
            "Epoch 18/80\n",
            "11/11 [==============================] - 17s 2s/step - loss: 1.0899 - accuracy: 0.9624 - val_loss: 1.3901 - val_accuracy: 0.7852\n",
            "Epoch 19/80\n",
            "11/11 [==============================] - 17s 2s/step - loss: 0.9934 - accuracy: 0.9595 - val_loss: 1.3467 - val_accuracy: 0.7852\n",
            "Epoch 20/80\n",
            "11/11 [==============================] - 17s 2s/step - loss: 0.8944 - accuracy: 0.9668 - val_loss: 1.2467 - val_accuracy: 0.7852\n",
            "Epoch 21/80\n",
            "11/11 [==============================] - 17s 2s/step - loss: 0.8364 - accuracy: 0.9624 - val_loss: 1.1758 - val_accuracy: 0.7852\n",
            "Epoch 22/80\n",
            "11/11 [==============================] - 17s 2s/step - loss: 0.7906 - accuracy: 0.9581 - val_loss: 1.3598 - val_accuracy: 0.7852\n",
            "Epoch 23/80\n",
            "11/11 [==============================] - 17s 2s/step - loss: 0.7512 - accuracy: 0.9624 - val_loss: 1.3627 - val_accuracy: 0.7852\n",
            "Epoch 24/80\n",
            "11/11 [==============================] - 17s 2s/step - loss: 0.6902 - accuracy: 0.9653 - val_loss: 1.3108 - val_accuracy: 0.7852\n",
            "Epoch 25/80\n",
            "11/11 [==============================] - 17s 2s/step - loss: 0.6572 - accuracy: 0.9653 - val_loss: 1.2203 - val_accuracy: 0.7852\n",
            "Epoch 26/80\n",
            "11/11 [==============================] - 17s 2s/step - loss: 0.6437 - accuracy: 0.9624 - val_loss: 1.1287 - val_accuracy: 0.7852\n",
            "Epoch 27/80\n",
            "11/11 [==============================] - 17s 2s/step - loss: 0.6284 - accuracy: 0.9595 - val_loss: 0.9563 - val_accuracy: 0.7852\n",
            "Epoch 28/80\n",
            "11/11 [==============================] - 17s 2s/step - loss: 0.6104 - accuracy: 0.9639 - val_loss: 1.2346 - val_accuracy: 0.7852\n",
            "Epoch 29/80\n",
            "11/11 [==============================] - 17s 2s/step - loss: 0.5967 - accuracy: 0.9653 - val_loss: 1.0191 - val_accuracy: 0.7852\n",
            "Epoch 30/80\n",
            "11/11 [==============================] - 17s 2s/step - loss: 0.5568 - accuracy: 0.9639 - val_loss: 0.9391 - val_accuracy: 0.7852\n",
            "Epoch 31/80\n",
            "11/11 [==============================] - 17s 2s/step - loss: 0.5371 - accuracy: 0.9595 - val_loss: 0.8558 - val_accuracy: 0.7919\n",
            "Epoch 32/80\n",
            "11/11 [==============================] - 17s 2s/step - loss: 0.5187 - accuracy: 0.9624 - val_loss: 0.8895 - val_accuracy: 0.7852\n",
            "Epoch 33/80\n",
            "11/11 [==============================] - 17s 2s/step - loss: 0.5341 - accuracy: 0.9581 - val_loss: 0.9042 - val_accuracy: 0.7919\n",
            "Epoch 34/80\n",
            "11/11 [==============================] - 17s 2s/step - loss: 0.5185 - accuracy: 0.9624 - val_loss: 1.1136 - val_accuracy: 0.7852\n",
            "Epoch 35/80\n",
            "11/11 [==============================] - 17s 2s/step - loss: 0.4952 - accuracy: 0.9595 - val_loss: 0.8884 - val_accuracy: 0.7919\n",
            "Epoch 36/80\n",
            "11/11 [==============================] - 17s 2s/step - loss: 0.4722 - accuracy: 0.9610 - val_loss: 1.0208 - val_accuracy: 0.7852\n",
            "Epoch 37/80\n",
            "11/11 [==============================] - 17s 2s/step - loss: 0.4505 - accuracy: 0.9639 - val_loss: 1.0449 - val_accuracy: 0.7852\n",
            "Epoch 38/80\n",
            "11/11 [==============================] - 17s 2s/step - loss: 0.4537 - accuracy: 0.9624 - val_loss: 1.0973 - val_accuracy: 0.7852\n",
            "Epoch 39/80\n",
            "11/11 [==============================] - 17s 2s/step - loss: 0.4541 - accuracy: 0.9639 - val_loss: 0.8981 - val_accuracy: 0.7919\n",
            "Epoch 40/80\n",
            "11/11 [==============================] - 17s 2s/step - loss: 0.4438 - accuracy: 0.9639 - val_loss: 0.7501 - val_accuracy: 0.7919\n",
            "Epoch 41/80\n",
            "11/11 [==============================] - 17s 2s/step - loss: 0.4266 - accuracy: 0.9610 - val_loss: 0.7820 - val_accuracy: 0.7852\n",
            "Epoch 42/80\n",
            "11/11 [==============================] - 17s 2s/step - loss: 0.4171 - accuracy: 0.9653 - val_loss: 0.9451 - val_accuracy: 0.7852\n",
            "Epoch 43/80\n",
            "11/11 [==============================] - 17s 2s/step - loss: 0.3999 - accuracy: 0.9639 - val_loss: 1.0327 - val_accuracy: 0.7852\n",
            "Epoch 44/80\n",
            "11/11 [==============================] - 17s 2s/step - loss: 0.4130 - accuracy: 0.9552 - val_loss: 0.5752 - val_accuracy: 0.8322\n",
            "Epoch 45/80\n",
            "11/11 [==============================] - 17s 2s/step - loss: 0.4349 - accuracy: 0.9653 - val_loss: 0.4873 - val_accuracy: 0.8658\n",
            "Epoch 46/80\n",
            "11/11 [==============================] - 17s 2s/step - loss: 0.4228 - accuracy: 0.9610 - val_loss: 0.5892 - val_accuracy: 0.8188\n",
            "Epoch 47/80\n",
            "11/11 [==============================] - 17s 2s/step - loss: 0.3984 - accuracy: 0.9653 - val_loss: 0.5629 - val_accuracy: 0.8725\n",
            "Epoch 48/80\n",
            "11/11 [==============================] - 17s 2s/step - loss: 0.3756 - accuracy: 0.9639 - val_loss: 0.7287 - val_accuracy: 0.7852\n",
            "Epoch 49/80\n",
            "11/11 [==============================] - 17s 2s/step - loss: 0.3711 - accuracy: 0.9624 - val_loss: 0.4508 - val_accuracy: 0.9128\n",
            "Epoch 50/80\n",
            "11/11 [==============================] - 17s 2s/step - loss: 0.3702 - accuracy: 0.9639 - val_loss: 0.4280 - val_accuracy: 0.9195\n",
            "Epoch 51/80\n",
            "11/11 [==============================] - 17s 2s/step - loss: 0.3570 - accuracy: 0.9610 - val_loss: 0.5100 - val_accuracy: 0.8658\n",
            "Epoch 52/80\n",
            "11/11 [==============================] - 17s 2s/step - loss: 0.3606 - accuracy: 0.9639 - val_loss: 0.3941 - val_accuracy: 0.9262\n",
            "Epoch 53/80\n",
            "11/11 [==============================] - 17s 2s/step - loss: 0.3415 - accuracy: 0.9653 - val_loss: 0.5014 - val_accuracy: 0.8792\n",
            "Epoch 54/80\n",
            "11/11 [==============================] - 17s 2s/step - loss: 0.4017 - accuracy: 0.9610 - val_loss: 0.6955 - val_accuracy: 0.8792\n",
            "Epoch 55/80\n",
            "11/11 [==============================] - 17s 2s/step - loss: 0.4161 - accuracy: 0.9653 - val_loss: 0.5288 - val_accuracy: 0.9463\n",
            "Epoch 56/80\n",
            "11/11 [==============================] - 17s 2s/step - loss: 0.3988 - accuracy: 0.9624 - val_loss: 0.3648 - val_accuracy: 0.9799\n",
            "Epoch 57/80\n",
            "11/11 [==============================] - 17s 2s/step - loss: 0.3808 - accuracy: 0.9639 - val_loss: 0.3479 - val_accuracy: 0.9799\n",
            "Epoch 58/80\n",
            "11/11 [==============================] - 17s 2s/step - loss: 0.3571 - accuracy: 0.9653 - val_loss: 0.3363 - val_accuracy: 0.9463\n",
            "Epoch 59/80\n",
            "11/11 [==============================] - 17s 2s/step - loss: 0.3362 - accuracy: 0.9639 - val_loss: 0.3757 - val_accuracy: 0.9396\n",
            "Epoch 60/80\n",
            "11/11 [==============================] - 17s 2s/step - loss: 0.3252 - accuracy: 0.9639 - val_loss: 0.3325 - val_accuracy: 0.9396\n",
            "Epoch 61/80\n",
            "11/11 [==============================] - 17s 2s/step - loss: 0.3181 - accuracy: 0.9639 - val_loss: 0.3744 - val_accuracy: 0.9463\n",
            "Epoch 62/80\n",
            "11/11 [==============================] - 17s 2s/step - loss: 0.3133 - accuracy: 0.9653 - val_loss: 0.3576 - val_accuracy: 0.9396\n",
            "Epoch 63/80\n",
            "11/11 [==============================] - 17s 2s/step - loss: 0.3139 - accuracy: 0.9639 - val_loss: 0.5950 - val_accuracy: 0.8322\n",
            "Epoch 64/80\n",
            "11/11 [==============================] - 17s 2s/step - loss: 0.3448 - accuracy: 0.9624 - val_loss: 0.3283 - val_accuracy: 0.9799\n",
            "Epoch 65/80\n",
            "11/11 [==============================] - 17s 2s/step - loss: 0.3461 - accuracy: 0.9682 - val_loss: 0.3050 - val_accuracy: 0.9799\n",
            "Epoch 66/80\n",
            "11/11 [==============================] - 17s 2s/step - loss: 0.3293 - accuracy: 0.9624 - val_loss: 0.2894 - val_accuracy: 0.9664\n",
            "Epoch 67/80\n",
            "11/11 [==============================] - 17s 2s/step - loss: 0.3182 - accuracy: 0.9653 - val_loss: 0.3394 - val_accuracy: 0.9396\n",
            "Epoch 68/80\n",
            "11/11 [==============================] - 17s 2s/step - loss: 0.3047 - accuracy: 0.9624 - val_loss: 0.3192 - val_accuracy: 0.9396\n",
            "Epoch 69/80\n",
            "11/11 [==============================] - 17s 2s/step - loss: 0.2994 - accuracy: 0.9653 - val_loss: 0.3614 - val_accuracy: 0.9060\n",
            "Epoch 70/80\n",
            "11/11 [==============================] - 17s 2s/step - loss: 0.2955 - accuracy: 0.9624 - val_loss: 0.2486 - val_accuracy: 0.9866\n",
            "Epoch 71/80\n",
            "11/11 [==============================] - 17s 2s/step - loss: 0.3023 - accuracy: 0.9624 - val_loss: 0.2702 - val_accuracy: 0.9664\n",
            "Epoch 72/80\n",
            "11/11 [==============================] - 17s 2s/step - loss: 0.2921 - accuracy: 0.9639 - val_loss: 0.3472 - val_accuracy: 0.9396\n",
            "Epoch 73/80\n",
            "11/11 [==============================] - 17s 2s/step - loss: 0.2981 - accuracy: 0.9639 - val_loss: 0.2983 - val_accuracy: 0.9463\n",
            "Epoch 74/80\n",
            "11/11 [==============================] - 17s 2s/step - loss: 0.2873 - accuracy: 0.9639 - val_loss: 0.4035 - val_accuracy: 0.9195\n",
            "Epoch 75/80\n",
            "11/11 [==============================] - 17s 2s/step - loss: 0.2794 - accuracy: 0.9639 - val_loss: 0.2915 - val_accuracy: 0.9396\n",
            "Epoch 76/80\n",
            "11/11 [==============================] - 17s 2s/step - loss: 0.2737 - accuracy: 0.9639 - val_loss: 0.2899 - val_accuracy: 0.9396\n",
            "Epoch 77/80\n",
            "11/11 [==============================] - 17s 2s/step - loss: 0.2706 - accuracy: 0.9624 - val_loss: 0.2687 - val_accuracy: 0.9329\n",
            "Epoch 78/80\n",
            "11/11 [==============================] - 17s 2s/step - loss: 0.2642 - accuracy: 0.9624 - val_loss: 0.2555 - val_accuracy: 0.9329\n",
            "Epoch 79/80\n",
            "11/11 [==============================] - 17s 2s/step - loss: 0.2842 - accuracy: 0.9595 - val_loss: 0.2366 - val_accuracy: 0.9799\n",
            "Epoch 80/80\n",
            "11/11 [==============================] - 17s 2s/step - loss: 0.2729 - accuracy: 0.9595 - val_loss: 0.2344 - val_accuracy: 0.9866\n"
          ]
        }
      ]
    },
    {
      "cell_type": "code",
      "source": [
        "model.evaluate(test_ds)"
      ],
      "metadata": {
        "colab": {
          "base_uri": "https://localhost:8080/"
        },
        "id": "guSlO-6Dta8S",
        "outputId": "e38974be-09cb-4e02-b179-f2c1f3ee8550"
      },
      "execution_count": 169,
      "outputs": [
        {
          "output_type": "stream",
          "name": "stdout",
          "text": [
            "3/3 [==============================] - 1s 240ms/step - loss: 0.2359 - accuracy: 0.9799\n"
          ]
        },
        {
          "output_type": "execute_result",
          "data": {
            "text/plain": [
              "[0.23586124181747437, 0.9798657894134521]"
            ]
          },
          "metadata": {},
          "execution_count": 169
        }
      ]
    },
    {
      "cell_type": "code",
      "source": [
        "history.params\n",
        "history.history.keys()"
      ],
      "metadata": {
        "colab": {
          "base_uri": "https://localhost:8080/"
        },
        "id": "1cydy2YDtbdS",
        "outputId": "3110d184-ce7f-4bc5-8eae-cb824c6a51f3"
      },
      "execution_count": 170,
      "outputs": [
        {
          "output_type": "execute_result",
          "data": {
            "text/plain": [
              "dict_keys(['loss', 'accuracy', 'val_loss', 'val_accuracy'])"
            ]
          },
          "metadata": {},
          "execution_count": 170
        }
      ]
    },
    {
      "cell_type": "code",
      "source": [
        "acc = history.history['accuracy']\n",
        "val_acc = history.history['val_accuracy']\n",
        "\n",
        "loss = history.history['loss']\n",
        "val_loss = history.history['val_loss']"
      ],
      "metadata": {
        "id": "N1Cf8ZZHtc06"
      },
      "execution_count": 171,
      "outputs": []
    },
    {
      "cell_type": "code",
      "source": [
        "plt.figure(figsize=(8,8))\n",
        "\n",
        "plt.subplot(1, 2, 1)\n",
        "plt.plot(range(EPOCH), acc, label='Training Accuracy')\n",
        "plt.plot(range(EPOCH), val_acc, label='Validation Accuracy')\n",
        "plt.xlabel('Epochs')\n",
        "plt.ylabel('Accuracy')\n",
        "plt.legend(loc='lower right')\n",
        "plt.title('Training and Validation Accuracy')\n",
        "\n",
        "plt.subplot(1, 2, 2)\n",
        "plt.plot(range(EPOCH), loss, label='Training Loss')\n",
        "plt.plot(range(EPOCH), val_loss, label='Validation Loss')\n",
        "plt.xlabel('Epochs')\n",
        "plt.ylabel('Loss')\n",
        "plt.legend(loc='upper right')\n",
        "plt.title('Training and Validation Loss')\n",
        "\n",
        "\n",
        "plt.show()"
      ],
      "metadata": {
        "colab": {
          "base_uri": "https://localhost:8080/",
          "height": 718
        },
        "id": "Kp0LWmpzteGX",
        "outputId": "743cf557-e15f-4bb7-f9bb-daafa78797c6"
      },
      "execution_count": 172,
      "outputs": [
        {
          "output_type": "display_data",
          "data": {
            "text/plain": [
              "<Figure size 800x800 with 2 Axes>"
            ],
            "image/png": "[encoded data removed]"
          },
          "metadata": {}
        }
      ]
    },
    {
      "cell_type": "code",
      "source": [
        "model.save('trained_model_Unet_1.h5')"
      ],
      "metadata": {
        "id": "my48TnS6PEW6"
      },
      "execution_count": 175,
      "outputs": []
    },
    {
      "cell_type": "code",
      "source": [
        "from google.colab import files\n",
        "files.download('trained_model_Unet_1.h5')  # from colab to browser download"
      ],
      "metadata": {
        "id": "9KIKgiLFPMGE",
        "colab": {
          "base_uri": "https://localhost:8080/",
          "height": 17
        },
        "outputId": "a08a0596-9bee-4c3f-bf94-010a0c222b3d"
      },
      "execution_count": 176,
      "outputs": [
        {
          "output_type": "display_data",
          "data": {
            "text/plain": [
              "<IPython.core.display.Javascript object>"
            ],
            "application/javascript": [
              "\n",
              "    async function download(id, filename, size) {\n",
              "      if (!google.colab.kernel.accessAllowed) {\n",
              "        return;\n",
              "      }\n",
              "      const div = document.createElement('div');\n",
              "      const label = document.createElement('label');\n",
              "      label.textContent = `Downloading \"${filename}\": `;\n",
              "      div.appendChild(label);\n",
              "      const progress = document.createElement('progress');\n",
              "      progress.max = size;\n",
              "      div.appendChild(progress);\n",
              "      document.body.appendChild(div);\n",
              "\n",
              "      const buffers = [];\n",
              "      let downloaded = 0;\n",
              "\n",
              "      const channel = await google.colab.kernel.comms.open(id);\n",
              "      // Send a message to notify the kernel that we're ready.\n",
              "      channel.send({})\n",
              "\n",
              "      for await (const message of channel.messages) {\n",
              "        // Send a message to notify the kernel that we're ready.\n",
              "        channel.send({})\n",
              "        if (message.buffers) {\n",
              "          for (const buffer of message.buffers) {\n",
              "            buffers.push(buffer);\n",
              "            downloaded += buffer.byteLength;\n",
              "            progress.value = downloaded;\n",
              "          }\n",
              "        }\n",
              "      }\n",
              "      const blob = new Blob(buffers, {type: 'application/binary'});\n",
              "      const a = document.createElement('a');\n",
              "      a.href = window.URL.createObjectURL(blob);\n",
              "      a.download = filename;\n",
              "      div.appendChild(a);\n",
              "      a.click();\n",
              "      div.remove();\n",
              "    }\n",
              "  "
            ]
          },
          "metadata": {}
        },
        {
          "output_type": "display_data",
          "data": {
            "text/plain": [
              "<IPython.core.display.Javascript object>"
            ],
            "application/javascript": [
              "download(\"download_db97596d-5d9e-46be-ade2-9e6c96248d03\", \"trained_model_Unet_1.h5\", 825448)"
            ]
          },
          "metadata": {}
        }
      ]
    }
  ]
}